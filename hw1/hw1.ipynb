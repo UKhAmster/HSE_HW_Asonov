{
 "cells": [
  {
   "cell_type": "code",
   "execution_count": 23,
   "id": "f6ee38fd-7543-4d45-9d68-bada5c5c89e4",
   "metadata": {},
   "outputs": [],
   "source": [
    "##ЗАДАНИЕ 1\n",
    "import csv\n",
    "\n",
    "purchases = {}\n",
    "with open('purchase_log.txt', 'r', encoding = 'utf8') as file:\n",
    "    for line in file:\n",
    "        if line.startswith('{\"user_id\": \"user_id\"'):\n",
    "            continue\n",
    "        line = line.strip()\n",
    "        if line:\n",
    "            user_id = line.split('\"user_id\": \"')[1].split('\"')[0]\n",
    "            category = line.split('\"category\": \"')[1].split('\"')[0]\n",
    "        if category != \"user_id\":\n",
    "            purchases[user_id] = category\n",
    "\n",
    "##first_two = list(purchases.items())[:2]\n",
    "##for user_id, category in first_two:\n",
    "##    print(f\"{user_id} '{category}'\")"
   ]
  },
  {
   "cell_type": "code",
   "execution_count": 9,
   "id": "67c39974-9e21-4a12-9f0b-8e947fbd452d",
   "metadata": {},
   "outputs": [
    {
     "name": "stdout",
     "output_type": "stream",
     "text": [
      "1840e0b9d4 'Продукты'\n",
      "4e4f90fcfb 'Электроника'\n"
     ]
    }
   ],
   "source": [
    "count = 0\n",
    "for user_id, category in purchases.items():\n",
    "    if count < 2:\n",
    "        print(f\"{user_id} '{category}'\")\n",
    "        count += 1\n",
    "    else:\n",
    "        break"
   ]
  },
  {
   "cell_type": "code",
   "execution_count": 21,
   "id": "be66e72e-ca63-4f10-bf17-860206bb5e2c",
   "metadata": {},
   "outputs": [],
   "source": [
    "##ЗАДАНИЕ 2\n",
    "with open('visit_log.csv', 'r', encoding = 'utf8') as visit_file, open('funnel.csv', 'w', newline='', encoding = 'utf8') as funnel_file:\n",
    "    reader = csv.reader(visit_file)\n",
    "    writer = csv.writer(funnel_file)\n",
    "    writer.writerow(['user_id','source','category'])\n",
    "    processed_count = 0\n",
    "    purchased_count = 0\n",
    "\n",
    "    for row in reader:\n",
    "        processed_count += 1\n",
    "        user_id = row[0]\n",
    "        if user_id in purchases:\n",
    "            purchased_count += 1\n",
    "            writer.writerow([user_id,row[1],purchases[user_id]])"
   ]
  },
  {
   "cell_type": "code",
   "execution_count": 22,
   "id": "21d097ec-e334-4047-a280-7baf8bb92829",
   "metadata": {},
   "outputs": [
    {
     "name": "stdout",
     "output_type": "stream",
     "text": [
      "['user_id', 'source', 'category']\n",
      "['1840e0b9d4', 'other', 'Продукты']\n",
      "['4e4f90fcfb', 'context', 'Электроника']\n"
     ]
    }
   ],
   "source": [
    "with open('funnel.csv', 'r', encoding = 'utf8') as file:\n",
    "    reader = csv.reader(file)\n",
    "    for i, row in enumerate(reader):\n",
    "        if i<3:\n",
    "            print(row)\n",
    "        else:\n",
    "            break\n",
    "        "
   ]
  },
  {
   "cell_type": "code",
   "execution_count": null,
   "id": "f4b894ac-b6c3-4efe-958f-db14c27f9f57",
   "metadata": {},
   "outputs": [],
   "source": []
  }
 ],
 "metadata": {
  "kernelspec": {
   "display_name": "Python [conda env:base] *",
   "language": "python",
   "name": "conda-base-py"
  },
  "language_info": {
   "codemirror_mode": {
    "name": "ipython",
    "version": 3
   },
   "file_extension": ".py",
   "mimetype": "text/x-python",
   "name": "python",
   "nbconvert_exporter": "python",
   "pygments_lexer": "ipython3",
   "version": "3.13.5"
  }
 },
 "nbformat": 4,
 "nbformat_minor": 5
}
