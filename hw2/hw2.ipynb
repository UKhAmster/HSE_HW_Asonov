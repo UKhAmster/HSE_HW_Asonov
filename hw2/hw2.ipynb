{
 "cells": [
  {
   "cell_type": "code",
   "execution_count": 5,
   "id": "23e10ae4-5fd3-4ddf-afb9-5de8e9262b0e",
   "metadata": {},
   "outputs": [
    {
     "name": "stdout",
     "output_type": "stream",
     "text": [
      "The Moscow Times: 2002-10-02 00:00:00\n",
      "The Guardian: 2013-10-11 00:00:00\n",
      "Daily News: 1977-08-18 00:00:00\n"
     ]
    }
   ],
   "source": [
    "from datetime import datetime, timedelta\n",
    "\n",
    "def newspaper_date(date_str, newspaper):\n",
    "    if newspaper == 'The Moscow Times':\n",
    "        return datetime.strptime(date_str, \"%A, %B %d, %Y\")\n",
    "    elif newspaper == 'The Guardian':\n",
    "        return datetime.strptime(date_str, \"%A, %d.%m.%y\")\n",
    "    elif newspaper == 'Daily News':\n",
    "        return datetime.strptime(date_str, \"%A, %d %B %Y\")\n",
    "\n",
    "newspapers = ['The Moscow Times', 'The Guardian', 'Daily News']\n",
    "dates = ['Wednesday, October 2, 2002',\n",
    "         'Friday, 11.10.13',\n",
    "         'Thursday, 18 August 1977']\n",
    "for i, newspaper in enumerate(newspapers):\n",
    "    date_prs = newspaper_date(dates[i], newspaper)\n",
    "    print(f'{newspaper}: {date_prs}')"
   ]
  },
  {
   "cell_type": "code",
   "execution_count": 7,
   "id": "60506cc2-dd5d-4a73-ac54-edc508414572",
   "metadata": {},
   "outputs": [
    {
     "name": "stdout",
     "output_type": "stream",
     "text": [
      "['2022-01-01', '2022-01-02', '2022-01-03']\n"
     ]
    }
   ],
   "source": [
    "def date_range(start_date, end_date):\n",
    "    try:\n",
    "        start = datetime.strptime(start_date, \"%Y-%m-%d\")\n",
    "        end = datetime.strptime(end_date, \"%Y-%m-%d\")\n",
    "        if start > end:\n",
    "            return []\n",
    "        date_list = []\n",
    "        current_date = start\n",
    "        while current_date <= end:\n",
    "            date_list.append(current_date.strftime(\"%Y-%m-%d\"))\n",
    "            current_date += timedelta(days=1)\n",
    "        return date_list\n",
    "    except ValueError:\n",
    "        return []\n",
    "\n",
    "print(date_range('2022-01-01', '2022-01-03'))"
   ]
  },
  {
   "cell_type": "code",
   "execution_count": null,
   "id": "a43c7840-b771-4f26-b497-0725832212b0",
   "metadata": {},
   "outputs": [],
   "source": []
  }
 ],
 "metadata": {
  "kernelspec": {
   "display_name": "Python [conda env:base] *",
   "language": "python",
   "name": "conda-base-py"
  },
  "language_info": {
   "codemirror_mode": {
    "name": "ipython",
    "version": 3
   },
   "file_extension": ".py",
   "mimetype": "text/x-python",
   "name": "python",
   "nbconvert_exporter": "python",
   "pygments_lexer": "ipython3",
   "version": "3.13.5"
  }
 },
 "nbformat": 4,
 "nbformat_minor": 5
}
